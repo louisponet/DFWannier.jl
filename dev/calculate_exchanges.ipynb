{
 "cells": [
  {
   "outputs": [
    {
     "output_type": "execute_result",
     "data": {
      "text/plain": "\"/home/runner/work/DFWannier.jl/DFWannier.jl/src/../test/assets\""
     },
     "metadata": {},
     "execution_count": 1
    }
   ],
   "cell_type": "code",
   "source": [
    "using LinearAlgebra#hide\n",
    "BLAS.set_num_threads(1)#hide\n",
    "using DFWannier\n",
    "assets_dir = joinpath(splitdir(pathof(DFWannier))[1], \"../test/assets\")"
   ],
   "metadata": {},
   "execution_count": 1
  },
  {
   "cell_type": "markdown",
   "source": [
    "We first read the colinear Hamiltonian from the outputs of wannier90."
   ],
   "metadata": {}
  },
  {
   "outputs": [
    {
     "output_type": "execute_result",
     "data": {
      "text/plain": "271-element Vector{DFWannier.TBBlock{Float64, Unitful.Quantity{Float64, 𝐋, Unitful.FreeUnits{(Å,), 𝐋, nothing}}, DFWannier.ColinMatrix{ComplexF64, Matrix{ComplexF64}}}}:\n DFWannier.TBBlock{Float64, Unitful.Quantity{Float64, 𝐋, Unitful.FreeUnits{(Å,), 𝐋, nothing}}, DFWannier.ColinMatrix{ComplexF64, Matrix{ComplexF64}}}([-4, 1, 1], Unitful.Quantity{Float64, 𝐋, Unitful.FreeUnits{(Å,), 𝐋, nothing}}[-12.531005074417266 Å, -2.0885008457362106 Å, -2.0885008457362106 Å], ComplexF64[-0.001320111518912962 - 0.0006602874547082939im 0.0 + 0.0im … 0.0010000203899663078 + 1.5089681278375474e-5im 0.0 + 0.0im; -0.00018862557944137378 + 6.094661959995741e-5im 1.9711880509858146e-6 - 9.857447186097563e-8im … -1.4546615393249122e-5 + 6.938132318480357e-6im 0.0 + 0.0im; … ; 0.0 + 0.0im 0.0 + 0.0im … -8.392033287142908e-5 - 5.583918090797921e-6im 0.0 + 0.0im; 0.0 + 0.0im 0.0 + 0.0im … -8.514935181589618e-5 - 4.6433696217569325e-6im -0.0001317146776041345 - 9.472334986979389e-7im], ComplexF64[-0.003960334556739412 - 0.0019808623641251943im 0.0 + 0.0im … 0.0010000203899663278 + 1.5089681278377843e-5im 0.0 + 0.0im; -0.0001886255794413736 + 6.094661959996045e-5im 5.913564152685069e-6 - 2.9572341578187886e-7im … -1.4546615393300933e-5 + 6.938132318547563e-6im 0.0 + 0.0im; … ; 0.0 + 0.0im 0.0 + 0.0im … -0.0002517609986145715 - 1.6751754272561926e-5im 0.0 + 0.0im; 0.0 + 0.0im 0.0 + 0.0im … -8.514935181589056e-5 - 4.643369621754268e-6im -0.00039514403281266653 - 2.841700496333033e-6im])\n DFWannier.TBBlock{Float64, Unitful.Quantity{Float64, 𝐋, Unitful.FreeUnits{(Å,), 𝐋, nothing}}, DFWannier.ColinMatrix{ComplexF64, Matrix{ComplexF64}}}([-3, -1, 2], Unitful.Quantity{Float64, 𝐋, Unitful.FreeUnits{(Å,), 𝐋, nothing}}[-10.442504228681054 Å, -6.265502537208631 Å, 0.0 Å], ComplexF64[-0.0017870838117540265 - 0.0004127978979036051im 0.0 + 0.0im … -0.003332781527516329 - 6.303829510823755e-6im 0.00017469003718865393 - 2.0005430444081094e-6im; -1.6361543695511516e-5 + 1.6253250210601087e-5im -4.581693965615585e-6 - 1.498382025841849e-7im … 5.983059412138791e-5 + 8.06461906421374e-6im 0.00011318942029070888 + 1.409872818333574e-6im; … ; 0.0 + 0.0im 0.0 + 0.0im … -3.9510266132243284e-5 - 4.013877886002603e-6im 0.0 + 0.0im; 0.0 + 0.0im 0.0 + 0.0im … -8.949554479061695e-5 - 2.8335676121495904e-6im -0.00017160964797345102 - 2.3098416580698e-6im], ComplexF64[-0.0035741676235082308 - 0.0008255957958074518im 0.0 + 0.0im … -0.00333278152751633 - 6.303829510819092e-6im 0.00017469003718865572 - 2.0005430443825743e-6im; -1.6361543695510795e-5 + 1.62532502106017e-5im -9.163387931323541e-6 - 2.996764052731748e-7im … 5.983059412139191e-5 + 8.064619064216848e-6im 0.00011318942029070899 + 1.4098728183351005e-6im; … ; 0.0 + 0.0im 0.0 + 0.0im … -7.902053226456474e-5 - 8.027755772133105e-6im 0.0 + 0.0im; 0.0 + 0.0im 0.0 + 0.0im … -8.949554479062893e-5 - 2.833567612138488e-6im -0.0003432192959470015 - 4.619683316292367e-6im])\n DFWannier.TBBlock{Float64, Unitful.Quantity{Float64, 𝐋, Unitful.FreeUnits{(Å,), 𝐋, nothing}}, DFWannier.ColinMatrix{ComplexF64, Matrix{ComplexF64}}}([-3, 0, 1], Unitful.Quantity{Float64, 𝐋, Unitful.FreeUnits{(Å,), 𝐋, nothing}}[-10.442504228681052 Å, -4.177001691472421 Å, -2.0885008457362106 Å], ComplexF64[-0.0036231088220423685 - 0.0019739347808721704im -0.00019313514913498565 + 6.944723895385619e-5im … 0.0003641880961904196 - 4.5928072145096085e-6im 0.0016279690771588066 + 1.3381716109883256e-5im; -0.00017018618440146015 + 5.6790448944062213e-5im 2.4808613902237653e-5 - 3.1620353940908786e-7im … 0.0008795811325870426 + 6.061237833214328e-6im 0.0027240194669182777 + 1.980987205759288e-6im; … ; 0.0 + 0.0im 0.0 + 0.0im … -4.036138822080204e-5 - 1.4942034861135766e-5im -0.00028297389572671427 - 1.0399319557668817e-5im; 0.0 + 0.0im 0.0 + 0.0im … -0.00011085368622143843 - 6.044073760433033e-6im -0.00040205503039022973 - 2.2695087143631553e-6im], ComplexF64[-0.0036231088220423685 - 0.0019739347808721704im -0.00019313514913498565 + 6.944723895385619e-5im … 0.0003641880961904196 - 4.5928072145096085e-6im 0.0016279690771588066 + 1.3381716109883256e-5im; -0.00017018618440146015 + 5.6790448944062213e-5im 2.4808613902237653e-5 - 3.1620353940908786e-7im … 0.0008795811325870426 + 6.061237833214328e-6im 0.0027240194669182777 + 1.980987205759288e-6im; … ; 0.0 + 0.0im 0.0 + 0.0im … -4.036138822080204e-5 - 1.4942034861135766e-5im -0.00028297389572671427 - 1.0399319557668817e-5im; 0.0 + 0.0im 0.0 + 0.0im … -0.00011085368622143843 - 6.044073760433033e-6im -0.00040205503039022973 - 2.2695087143631553e-6im])\n DFWannier.TBBlock{Float64, Unitful.Quantity{Float64, 𝐋, Unitful.FreeUnits{(Å,), 𝐋, nothing}}, DFWannier.ColinMatrix{ComplexF64, Matrix{ComplexF64}}}([-3, 0, 2], Unitful.Quantity{Float64, 𝐋, Unitful.FreeUnits{(Å,), 𝐋, nothing}}[-8.354003382944843 Å, -2.0885008457362106 Å, 2.0885008457362106 Å], ComplexF64[-0.005732806951883409 - 4.8514461733507376e-5im 0.0 + 0.0im … -0.0005358432748173527 + 4.280072651301925e-6im -0.0004057879950811243 + 5.699602247690283e-6im; 0.0009238528525477566 + 1.779391818553777e-5im -2.0589229684149225e-5 - 2.7237491425324833e-7im … 0.00031897230778164755 - 2.0304769314187787e-6im 0.00045895305051435974 - 1.313330280574343e-6im; … ; 0.0 + 0.0im 0.0 + 0.0im … 0.00014371287651651697 + 2.2769620548199755e-6im 0.0 + 0.0im; 0.0 + 0.0im 0.0 + 0.0im … 0.0012547789158708967 - 7.033769254465305e-7im -0.00017369048993667757 - 4.916537871965332e-6im], ComplexF64[-0.011465613903767291 - 9.702892346783187e-5im 0.0 + 0.0im … -0.00053584327481735 + 4.280072651303257e-6im -0.00040578799508114824 + 5.699602247734248e-6im; 0.0009238528525477574 + 1.779391818553844e-5im -4.117845936851161e-5 - 5.44749828861768e-7im … 0.00031897230778164907 - 2.0304769314227755e-6im 0.00045895305051436066 - 1.3133302805748981e-6im; … ; 0.0 + 0.0im 0.0 + 0.0im … 0.0002874257530327604 + 4.553924109217178e-6im 0.0 + 0.0im; 0.0 + 0.0im 0.0 + 0.0im … 0.0012547789158708954 - 7.033769254451982e-7im -0.0003473809798735985 - 9.833075744339226e-6im])\n DFWannier.TBBlock{Float64, Unitful.Quantity{Float64, 𝐋, Unitful.FreeUnits{(Å,), 𝐋, nothing}}, DFWannier.ColinMatrix{ComplexF64, Matrix{ComplexF64}}}([-3, 1, 0], Unitful.Quantity{Float64, 𝐋, Unitful.FreeUnits{(Å,), 𝐋, nothing}}[-10.442504228681052 Å, -2.0885008457362106 Å, -4.177001691472421 Å], ComplexF64[-0.0007588027342851546 - 0.0011856330590166663im -0.00042432839921013643 + 3.971879776091491e-5im … 0.0012815125296888467 + 8.96389158261357e-6im -0.00045706414655406925 + 1.6395529048498947e-5im; -0.00038214832757046323 + 6.713935874000559e-5im -1.8149594435143967e-6 - 3.210545448553148e-7im … 0.0012375707946677642 + 4.989725098036413e-6im -0.0015142488353855979 + 1.830379569105034e-6im; … ; 0.0 + 0.0im 0.0 + 0.0im … -0.0001360246757212167 + 3.160374944364719e-6im -0.0004735760299113112 + 4.9621052092803095e-6im; 0.0 + 0.0im 0.0 + 0.0im … -7.388566033758703e-5 - 7.005511824402788e-7im -0.0003819612883646286 + 9.749951334470097e-8im], ComplexF64[-0.0007588027342851546 - 0.0011856330590166663im -0.00042432839921013643 + 3.971879776091491e-5im … 0.0012815125296888467 + 8.96389158261357e-6im -0.00045706414655406925 + 1.6395529048498947e-5im; -0.00038214832757046323 + 6.713935874000559e-5im -1.8149594435143967e-6 - 3.210545448553148e-7im … 0.0012375707946677642 + 4.989725098036413e-6im -0.0015142488353855979 + 1.830379569105034e-6im; … ; 0.0 + 0.0im 0.0 + 0.0im … -0.0001360246757212167 + 3.160374944364719e-6im -0.0004735760299113112 + 4.9621052092803095e-6im; 0.0 + 0.0im 0.0 + 0.0im … -7.388566033758703e-5 - 7.005511824402788e-7im -0.0003819612883646286 + 9.749951334470097e-8im])\n DFWannier.TBBlock{Float64, Unitful.Quantity{Float64, 𝐋, Unitful.FreeUnits{(Å,), 𝐋, nothing}}, DFWannier.ColinMatrix{ComplexF64, Matrix{ComplexF64}}}([-3, 1, 1], Unitful.Quantity{Float64, 𝐋, Unitful.FreeUnits{(Å,), 𝐋, nothing}}[-8.354003382944843 Å, 0.0 Å, 0.0 Å], ComplexF64[-0.01854062035644467 - 0.0013308350184088767im 0.00044861760120298605 + 9.254653985159411e-5im … -0.00027883898303560615 + 1.1402677802028193e-5im -0.00028907614088059396 + 8.688738614004876e-6im; 0.0003641823490745223 + 6.059254772163924e-5im 0.0006113063136036612 - 5.963115096463411e-7im … 7.678444223392812e-6 - 1.6192147219751263e-7im -2.849974478709921e-5 - 5.874187973895495e-7im; … ; 0.0 + 0.0im 0.0 + 0.0im … -0.0007000083543110378 + 7.14431017015471e-6im -0.00029912671018938797 - 1.8843565698333008e-5im; 0.0 + 0.0im 0.0 + 0.0im … 0.0005828870340188708 - 8.659146926668804e-6im 0.0001590947549329087 - 8.16702175090711e-6im], ComplexF64[-0.01854062035644467 - 0.0013308350184088767im 0.00044861760120298605 + 9.254653985159411e-5im … -0.00027883898303560615 + 1.1402677802028193e-5im -0.00028907614088059396 + 8.688738614004876e-6im; 0.0003641823490745223 + 6.059254772163924e-5im 0.0006113063136036612 - 5.963115096463411e-7im … 7.678444223392812e-6 - 1.6192147219751263e-7im -2.849974478709921e-5 - 5.874187973895495e-7im; … ; 0.0 + 0.0im 0.0 + 0.0im … -0.0007000083543110378 + 7.14431017015471e-6im -0.00029912671018938797 - 1.8843565698333008e-5im; 0.0 + 0.0im 0.0 + 0.0im … 0.0005828870340188708 - 8.659146926668804e-6im 0.0001590947549329087 - 8.16702175090711e-6im])\n DFWannier.TBBlock{Float64, Unitful.Quantity{Float64, 𝐋, Unitful.FreeUnits{(Å,), 𝐋, nothing}}, DFWannier.ColinMatrix{ComplexF64, Matrix{ComplexF64}}}([-3, 1, 2], Unitful.Quantity{Float64, 𝐋, Unitful.FreeUnits{(Å,), 𝐋, nothing}}[-6.265502537208631 Å, 2.0885008457362106 Å, 4.177001691472421 Å], ComplexF64[0.0026077999731325147 + 0.0002851403010715619im 0.0 + 0.0im … -5.838752082778243e-5 - 6.49711672077613e-6im -9.466012842860305e-6 - 4.4646107702883684e-6im; 0.0008653012664438312 + 7.798317051860933e-6im 0.00015859484701180726 + 2.403627842403865e-8im … 2.4730536008764848e-5 - 2.296772878420672e-6im 1.3702201623143728e-5 - 8.899678796223526e-7im; … ; 0.0015344508534454932 - 0.0004743134025474159im 1.3983977226716514e-5 - 6.253942659440126e-6im … 0.0006302152641009719 - 3.9162183637523504e-6im 0.0 + 0.0im; 0.0008418205176147053 - 0.0005699984593843609im 5.255089820285846e-5 - 2.191505389708276e-6im … -0.0015460601256278243 - 4.678668442653805e-5im -0.00014004482287203145 - 6.1429790246009136e-6im], ComplexF64[0.0052155999462652 + 0.0005702806021429754im 0.0 + 0.0im … -5.8387520827808184e-5 - 6.497116720765028e-6im -9.466012842876736e-6 - 4.464610770284149e-6im; 0.0008653012664438316 + 7.798317051859691e-6im 0.0003171896940236962 + 4.8072556785655584e-8im … 2.4730536008801707e-5 - 2.2967728784264454e-6im 1.3702201623143616e-5 - 8.899678796221999e-7im; … ; 0.0015344508534454887 - 0.00047431340254742207im 1.3983977226712518e-5 - 6.253942659416367e-6im … 0.0012604305282020222 - 7.83243672761154e-6im 0.0 + 0.0im; 0.0008418205176146931 - 0.0005699984593843721im 5.255089820285952e-5 - 2.191505389709969e-6im … -0.0015460601256278173 - 4.6786684426525894e-5im -0.0002800896457439705 - 1.2285958049284182e-5im])\n DFWannier.TBBlock{Float64, Unitful.Quantity{Float64, 𝐋, Unitful.FreeUnits{(Å,), 𝐋, nothing}}, DFWannier.ColinMatrix{ComplexF64, Matrix{ComplexF64}}}([-3, 2, -1], Unitful.Quantity{Float64, 𝐋, Unitful.FreeUnits{(Å,), 𝐋, nothing}}[-10.442504228681052 Å, 0.0 Å, -6.265502537208632 Å], ComplexF64[0.0003610387034282674 + 0.0002167344904293884im 0.0 + 0.0im … 4.2926937807470815e-5 + 6.9599869980538915e-6im 0.0 + 0.0im; -0.00039656980365787077 + 2.9325616786894438e-5im -2.428787852677416e-6 - 1.5101409790041488e-7im … 0.0001268958658242929 - 8.231645306064905e-7im 0.0 + 0.0im; … ; 0.0 + 0.0im 0.0 + 0.0im … -9.958104599471973e-5 + 1.0082337229393445e-5im 0.0 + 0.0im; 0.0 + 0.0im 0.0 + 0.0im … 0.0001936405831911028 + 4.865927149891425e-6im -8.804905664533002e-5 - 5.809340494238313e-7im], ComplexF64[0.0007220774068569682 + 0.00043346898085899im 0.0 + 0.0im … 4.292693780743395e-5 + 6.9599869980407905e-6im 0.0 + 0.0im; -0.00039656980365787033 + 2.9325616786893438e-5im -4.857575705131012e-6 - 3.020281957120119e-7im … 0.00012689586582428003 - 8.231645306100433e-7im 0.0 + 0.0im; … ; 0.0 + 0.0im 0.0 + 0.0im … -0.00019916209198918722 + 2.0164674458854393e-5im 0.0 + 0.0im; 0.0 + 0.0im 0.0 + 0.0im … 0.0001936405831911081 + 4.865927149913407e-6im -0.00017609811329042911 - 1.1618680987268703e-6im])\n DFWannier.TBBlock{Float64, Unitful.Quantity{Float64, 𝐋, Unitful.FreeUnits{(Å,), 𝐋, nothing}}, DFWannier.ColinMatrix{ComplexF64, Matrix{ComplexF64}}}([-3, 2, 0], Unitful.Quantity{Float64, 𝐋, Unitful.FreeUnits{(Å,), 𝐋, nothing}}[-8.354003382944843 Å, 2.0885008457362106 Å, -2.0885008457362106 Å], ComplexF64[-0.007688127599286153 - 0.001030405451892374im 0.0 + 0.0im … -0.0004048710636028079 + 1.5003565913279893e-5im 0.0 + 0.0im; -0.0002742505022034577 + 9.506511229276932e-5im -2.75715945228594e-6 - 2.946372175731682e-7im … -9.782221317263041e-5 + 1.0540871721720356e-6im 0.0 + 0.0im; … ; 0.0 + 0.0im 0.0 + 0.0im … 0.00015236297577059688 + 1.1717204972493178e-5im 0.0 + 0.0im; 0.0 + 0.0im 0.0 + 0.0im … 0.001001238767043642 + 2.2820126205322924e-6im -5.270658157925822e-6 + 3.1674317564256425e-6im], ComplexF64[-0.015376255198571826 - 0.002060810903783974im 0.0 + 0.0im … -0.000404871063602811 + 1.5003565913279005e-5im 0.0 + 0.0im; -0.0002742505022034585 + 9.506511229277038e-5im -5.514318904348059e-6 - 5.892744348088286e-7im … -9.782221317260298e-5 + 1.0540871721271827e-6im 0.0 + 0.0im; … ; 0.0 + 0.0im 0.0 + 0.0im … 0.0003047259515414424 + 2.3434409945416236e-5im 0.0 + 0.0im; 0.0 + 0.0im 0.0 + 0.0im … 0.0010012387670436528 + 2.282012620541174e-6im -1.0541316315588744e-5 + 6.334863513266953e-6im])\n DFWannier.TBBlock{Float64, Unitful.Quantity{Float64, 𝐋, Unitful.FreeUnits{(Å,), 𝐋, nothing}}, DFWannier.ColinMatrix{ComplexF64, Matrix{ComplexF64}}}([-3, 2, 1], Unitful.Quantity{Float64, 𝐋, Unitful.FreeUnits{(Å,), 𝐋, nothing}}[-6.265502537208632 Å, 4.177001691472421 Å, 2.0885008457362106 Å], ComplexF64[-0.005963646618485146 + 0.0004458009786584686im 0.0 + 0.0im … -0.0001145963759971691 - 9.573159805598141e-7im 0.0 + 0.0im; 0.0006171124730471 - 2.6892456076717875e-5im 1.6979193850286121e-6 + 2.1218009602418678e-8im … 4.684769113687981e-6 - 1.5333192395123874e-6im 0.0 + 0.0im; … ; 0.0018483337447213221 - 0.0006832220890173664im 4.573877459774778e-7 - 8.107766311736376e-6im … 0.001014607196143814 - 8.175257174263577e-6im 0.0 + 0.0im; 0.0 + 0.0im 0.0 + 0.0im … -0.00295129397135488 - 3.5917033337629466e-5im 0.001565819353865404 - 8.173832235456435e-6im], ComplexF64[-0.011927293236969987 + 0.0008916019573169364im 0.0 + 0.0im … -0.00011459637599717798 - 9.573159805502661e-7im 0.0 + 0.0im; 0.0006171124730470981 - 2.6892456076716218e-5im 3.395838770188675e-6 + 4.2436019221073786e-8im … 4.684769113678655e-6 - 1.5333192395114993e-6im 0.0 + 0.0im; … ; 0.0018483337447213072 - 0.000683222089017399im 4.573877459606024e-7 - 8.107766311754362e-6im … 0.0020292143922877415 - 1.6350514348494922e-5im 0.0 + 0.0im; 0.0 + 0.0im 0.0 + 0.0im … -0.0029512939713548726 - 3.591703333762264e-5im 0.003131638707730943 - 1.6347664470898017e-5im])\n ⋮\n DFWannier.TBBlock{Float64, Unitful.Quantity{Float64, 𝐋, Unitful.FreeUnits{(Å,), 𝐋, nothing}}, DFWannier.ColinMatrix{ComplexF64, Matrix{ComplexF64}}}([-3, 0, -1], Unitful.Quantity{Float64, 𝐋, Unitful.FreeUnits{(Å,), 𝐋, nothing}}[-14.619505920153475 Å, -8.354003382944843 Å, -10.442504228681052 Å], ComplexF64[0.0 + 0.0im 0.0 + 0.0im … 0.0007849043275307626 - 6.354554526043277e-6im 0.0004207660574703951 - 4.957245346145278e-6im; 0.0 + 0.0im 0.0 + 0.0im … 4.456860138936314e-6 + 1.5792090998067999e-6im 2.35156671719311e-6 + 1.3403552665375295e-6im; … ; 0.0 + 0.0im 0.0 + 0.0im … 0.0 + 0.0im 0.0 + 0.0im; 0.0 + 0.0im 0.0 + 0.0im … 0.0 + 0.0im 0.0 + 0.0im], ComplexF64[0.0 + 0.0im 0.0 + 0.0im … 0.0007849043275307626 - 6.354554526043277e-6im 0.0004207660574703951 - 4.957245346145278e-6im; 0.0 + 0.0im 0.0 + 0.0im … 4.456860138936314e-6 + 1.5792090998067999e-6im 2.35156671719311e-6 + 1.3403552665375295e-6im; … ; 0.0 + 0.0im 0.0 + 0.0im … 0.0 + 0.0im 0.0 + 0.0im; 0.0 + 0.0im 0.0 + 0.0im … 0.0 + 0.0im 0.0 + 0.0im])\n DFWannier.TBBlock{Float64, Unitful.Quantity{Float64, 𝐋, Unitful.FreeUnits{(Å,), 𝐋, nothing}}, DFWannier.ColinMatrix{ComplexF64, Matrix{ComplexF64}}}([-3, 0, 0], Unitful.Quantity{Float64, 𝐋, Unitful.FreeUnits{(Å,), 𝐋, nothing}}[-12.531005074417264 Å, -6.265502537208632 Å, -6.265502537208632 Å], ComplexF64[0.0 + 0.0im 0.0 + 0.0im … 0.004303009178744478 - 9.471035307067055e-7im 0.0008408413627640856 - 3.33778109605376e-6im; 0.0 + 0.0im 0.0 + 0.0im … -0.0003335839668436307 + 5.373576781116718e-6im -1.2681810590115972e-5 + 1.3049260996539358e-6im; … ; 0.0 + 0.0im 0.0 + 0.0im … 0.0 + 0.0im 0.0 + 0.0im; 0.0 + 0.0im 0.0 + 0.0im … 0.0 + 0.0im 0.0 + 0.0im], ComplexF64[0.0 + 0.0im 0.0 + 0.0im … 0.004303009178744478 - 9.471035307067055e-7im 0.0008408413627640856 - 3.33778109605376e-6im; 0.0 + 0.0im 0.0 + 0.0im … -0.0003335839668436307 + 5.373576781116718e-6im -1.2681810590115972e-5 + 1.3049260996539358e-6im; … ; 0.0 + 0.0im 0.0 + 0.0im … 0.0 + 0.0im 0.0 + 0.0im; 0.0 + 0.0im 0.0 + 0.0im … 0.0 + 0.0im 0.0 + 0.0im])\n DFWannier.TBBlock{Float64, Unitful.Quantity{Float64, 𝐋, Unitful.FreeUnits{(Å,), 𝐋, nothing}}, DFWannier.ColinMatrix{ComplexF64, Matrix{ComplexF64}}}([-3, 1, -2], Unitful.Quantity{Float64, 𝐋, Unitful.FreeUnits{(Å,), 𝐋, nothing}}[-14.619505920153474 Å, -6.265502537208632 Å, -12.531005074417264 Å], ComplexF64[0.0 + 0.0im 0.0 + 0.0im … 0.0007778423143736238 - 1.0034932561124865e-5im 0.0003102786665873305 - 5.720080232805014e-6im; 0.0 + 0.0im 0.0 + 0.0im … 5.242327425505877e-5 + 1.3184394587875125e-6im 2.8502500440525268e-5 + 1.8709900519698898e-6im; … ; 0.0 + 0.0im 0.0 + 0.0im … 0.0 + 0.0im 0.0 + 0.0im; 0.0 + 0.0im 0.0 + 0.0im … 0.0 + 0.0im 0.0 + 0.0im], ComplexF64[0.0 + 0.0im 0.0 + 0.0im … 0.0007778423143736238 - 1.0034932561124865e-5im 0.0003102786665873305 - 5.720080232805014e-6im; 0.0 + 0.0im 0.0 + 0.0im … 5.242327425505877e-5 + 1.3184394587875125e-6im 2.8502500440525268e-5 + 1.8709900519698898e-6im; … ; 0.0 + 0.0im 0.0 + 0.0im … 0.0 + 0.0im 0.0 + 0.0im; 0.0 + 0.0im 0.0 + 0.0im … 0.0 + 0.0im 0.0 + 0.0im])\n DFWannier.TBBlock{Float64, Unitful.Quantity{Float64, 𝐋, Unitful.FreeUnits{(Å,), 𝐋, nothing}}, DFWannier.ColinMatrix{ComplexF64, Matrix{ComplexF64}}}([-3, 1, -1], Unitful.Quantity{Float64, 𝐋, Unitful.FreeUnits{(Å,), 𝐋, nothing}}[-12.531005074417262 Å, -4.177001691472421 Å, -8.354003382944843 Å], ComplexF64[0.0 + 0.0im 0.0 + 0.0im … 0.0027837057541410227 - 1.2496124528969866e-5im 0.0005692618932140018 - 9.674197060727251e-7im; 0.0 + 0.0im 0.0 + 0.0im … 0.0006384580044523644 - 1.1337030895637313e-6im -0.001393995479417077 - 9.092510487197503e-7im; … ; 0.0 + 0.0im 0.0 + 0.0im … 0.0 + 0.0im 0.0 + 0.0im; 0.0 + 0.0im 0.0 + 0.0im … 0.0 + 0.0im 0.0 + 0.0im], ComplexF64[0.0 + 0.0im 0.0 + 0.0im … 0.0027837057541410227 - 1.2496124528969866e-5im 0.0005692618932140018 - 9.674197060727251e-7im; 0.0 + 0.0im 0.0 + 0.0im … 0.0006384580044523644 - 1.1337030895637313e-6im -0.001393995479417077 - 9.092510487197503e-7im; … ; 0.0 + 0.0im 0.0 + 0.0im … 0.0 + 0.0im 0.0 + 0.0im; 0.0 + 0.0im 0.0 + 0.0im … 0.0 + 0.0im 0.0 + 0.0im])\n DFWannier.TBBlock{Float64, Unitful.Quantity{Float64, 𝐋, Unitful.FreeUnits{(Å,), 𝐋, nothing}}, DFWannier.ColinMatrix{ComplexF64, Matrix{ComplexF64}}}([2, -3, -2], Unitful.Quantity{Float64, 𝐋, Unitful.FreeUnits{(Å,), 𝐋, nothing}}[-2.0885008457362106 Å, -12.531005074417264 Å, -10.442504228681052 Å], ComplexF64[0.0 + 0.0im 0.0 + 0.0im … 0.0 + 0.0im 0.0009921992599916595 - 7.67128981363907e-6im; 0.0 + 0.0im 0.0 + 0.0im … 0.0 + 0.0im 5.8220661264082426e-5 + 1.6030599586334127e-6im; … ; 0.0 + 0.0im 0.0 + 0.0im … 0.0 + 0.0im 0.0 + 0.0im; 0.0 + 0.0im 0.0 + 0.0im … 0.0 + 0.0im 0.0 + 0.0im], ComplexF64[0.0 + 0.0im 0.0 + 0.0im … 0.0 + 0.0im 0.0009921992599916595 - 7.67128981363907e-6im; 0.0 + 0.0im 0.0 + 0.0im … 0.0 + 0.0im 5.8220661264082426e-5 + 1.6030599586334127e-6im; … ; 0.0 + 0.0im 0.0 + 0.0im … 0.0 + 0.0im 0.0 + 0.0im; 0.0 + 0.0im 0.0 + 0.0im … 0.0 + 0.0im 0.0 + 0.0im])\n DFWannier.TBBlock{Float64, Unitful.Quantity{Float64, 𝐋, Unitful.FreeUnits{(Å,), 𝐋, nothing}}, DFWannier.ColinMatrix{ComplexF64, Matrix{ComplexF64}}}([-3, 2, -2], Unitful.Quantity{Float64, 𝐋, Unitful.FreeUnits{(Å,), 𝐋, nothing}}[-12.531005074417264 Å, -2.0885008457362106 Å, -10.442504228681052 Å], ComplexF64[0.0 + 0.0im 0.0 + 0.0im … 0.0016088346177793138 - 8.36968657609738e-6im 0.0 + 0.0im; 0.0 + 0.0im 0.0 + 0.0im … -0.00022442497885493285 + 2.0525050442472548e-6im 0.0 + 0.0im; … ; 0.0 + 0.0im 0.0 + 0.0im … 0.0 + 0.0im 0.0 + 0.0im; 0.0 + 0.0im 0.0 + 0.0im … 0.0 + 0.0im 0.0 + 0.0im], ComplexF64[0.0 + 0.0im 0.0 + 0.0im … 0.0016088346177793138 - 8.36968657609738e-6im 0.0 + 0.0im; 0.0 + 0.0im 0.0 + 0.0im … -0.00022442497885493285 + 2.0525050442472548e-6im 0.0 + 0.0im; … ; 0.0 + 0.0im 0.0 + 0.0im … 0.0 + 0.0im 0.0 + 0.0im; 0.0 + 0.0im 0.0 + 0.0im … 0.0 + 0.0im 0.0 + 0.0im])\n DFWannier.TBBlock{Float64, Unitful.Quantity{Float64, 𝐋, Unitful.FreeUnits{(Å,), 𝐋, nothing}}, DFWannier.ColinMatrix{ComplexF64, Matrix{ComplexF64}}}([-2, -1, -1], Unitful.Quantity{Float64, 𝐋, Unitful.FreeUnits{(Å,), 𝐋, nothing}}[-12.531005074417262 Å, -10.442504228681052 Å, -10.442504228681052 Å], ComplexF64[0.0 + 0.0im 0.0 + 0.0im … 0.0006126643343971114 - 6.984094205138458e-6im 8.812709422465037e-5 - 6.130642558774379e-6im; 0.0 + 0.0im 0.0 + 0.0im … 4.0776609433967434e-5 + 1.539272367254263e-6im 6.781247236194666e-5 + 1.075680044766436e-6im; … ; 0.0 + 0.0im 0.0 + 0.0im … 0.0 + 0.0im 0.0 + 0.0im; 0.0 + 0.0im 0.0 + 0.0im … 0.0 + 0.0im 0.0 + 0.0im], ComplexF64[0.0 + 0.0im 0.0 + 0.0im … 0.0006126643343971114 - 6.984094205138458e-6im 8.812709422465037e-5 - 6.130642558774379e-6im; 0.0 + 0.0im 0.0 + 0.0im … 4.0776609433967434e-5 + 1.539272367254263e-6im 6.781247236194666e-5 + 1.075680044766436e-6im; … ; 0.0 + 0.0im 0.0 + 0.0im … 0.0 + 0.0im 0.0 + 0.0im; 0.0 + 0.0im 0.0 + 0.0im … 0.0 + 0.0im 0.0 + 0.0im])\n DFWannier.TBBlock{Float64, Unitful.Quantity{Float64, 𝐋, Unitful.FreeUnits{(Å,), 𝐋, nothing}}, DFWannier.ColinMatrix{ComplexF64, Matrix{ComplexF64}}}([-2, -1, 0], Unitful.Quantity{Float64, 𝐋, Unitful.FreeUnits{(Å,), 𝐋, nothing}}[-10.442504228681052 Å, -8.354003382944843 Å, -6.265502537208632 Å], ComplexF64[0.0 + 0.0im 0.0 + 0.0im … 0.00622777892782732 + 3.737400169508298e-6im 0.014011667259120671 - 8.256744333684729e-6im; 0.0 + 0.0im 0.0 + 0.0im … -0.0006932076481023206 + 2.1527169136801306e-6im -0.0009275911624943259 + 2.8275682561463845e-6im; … ; 0.0 + 0.0im 0.0 + 0.0im … 0.0 + 0.0im 0.0 + 0.0im; 0.0 + 0.0im 0.0 + 0.0im … 0.0 + 0.0im 0.0 + 0.0im], ComplexF64[0.0 + 0.0im 0.0 + 0.0im … 0.00622777892782732 + 3.737400169508298e-6im 0.014011667259120671 - 8.256744333684729e-6im; 0.0 + 0.0im 0.0 + 0.0im … -0.0006932076481023206 + 2.1527169136801306e-6im -0.0009275911624943259 + 2.8275682561463845e-6im; … ; 0.0 + 0.0im 0.0 + 0.0im … 0.0 + 0.0im 0.0 + 0.0im; 0.0 + 0.0im 0.0 + 0.0im … 0.0 + 0.0im 0.0 + 0.0im])\n DFWannier.TBBlock{Float64, Unitful.Quantity{Float64, 𝐋, Unitful.FreeUnits{(Å,), 𝐋, nothing}}, DFWannier.ColinMatrix{ComplexF64, Matrix{ComplexF64}}}([-2, 0, -1], Unitful.Quantity{Float64, 𝐋, Unitful.FreeUnits{(Å,), 𝐋, nothing}}[-10.442504228681052 Å, -6.265502537208632 Å, -8.354003382944843 Å], ComplexF64[0.0 + 0.0im 0.0 + 0.0im … 0.004873707744496154 - 1.233248418877242e-5im 0.0008826189197687459 - 6.518130057173721e-6im; 0.0 + 0.0im 0.0 + 0.0im … 0.015132142678697445 - 6.5405774610383104e-6im 0.00032783289017116325 - 4.258738880747681e-6im; … ; 0.0 + 0.0im 0.0 + 0.0im … 0.0 + 0.0im 0.0 + 0.0im; 0.0 + 0.0im 0.0 + 0.0im … 0.0 + 0.0im 0.0 + 0.0im], ComplexF64[0.0 + 0.0im 0.0 + 0.0im … 0.004873707744496154 - 1.233248418877242e-5im 0.0008826189197687459 - 6.518130057173721e-6im; 0.0 + 0.0im 0.0 + 0.0im … 0.015132142678697445 - 6.5405774610383104e-6im 0.00032783289017116325 - 4.258738880747681e-6im; … ; 0.0 + 0.0im 0.0 + 0.0im … 0.0 + 0.0im 0.0 + 0.0im; 0.0 + 0.0im 0.0 + 0.0im … 0.0 + 0.0im 0.0 + 0.0im])"
     },
     "metadata": {},
     "execution_count": 2
    }
   ],
   "cell_type": "code",
   "source": [
    "hami = read_hamiltonian(joinpath(assets_dir, \"wanup.chk\"),\n",
    "                        joinpath(assets_dir, \"wandn.chk\"),\n",
    "                        joinpath(assets_dir, \"wanup.eig\"),\n",
    "                        joinpath(assets_dir, \"wandn.eig\"))"
   ],
   "metadata": {},
   "execution_count": 2
  },
  {
   "cell_type": "markdown",
   "source": [
    "We can the generate the bandstructure by first defining a k-path and then perform the\n",
    "interpolation."
   ],
   "metadata": {}
  },
  {
   "outputs": [
    {
     "output_type": "execute_result",
     "data": {
      "text/plain": "Structure\n    cell parameters:\n\t a = (4.177001691472421 Å, 2.0885008457362106 Å, 2.0885008457362106 Å)\n\t b = (2.0885008457362106 Å, 4.177001691472421 Å, 2.0885008457362106 Å)\n\t c = (2.0885008457362106 Å, 2.0885008457362106 Å, 4.177001691472421 Å)\n    nat: 4\n    ntyp: 3\nAtom[\nAtom\n    name: Ni1\n    position_cryst: (0.5, 0.5, 0.5)\n    element: symbol: Ni\nZ: 28\nname: Nickel\natomic_weight: 58.6934\ncolor: (0.49744411383230336, 0.0019073777370870527, 0.0)\n\n    projections: Projection[Orbital: d\nstart index: 6\nlast index: 10\n]\n    magnetization: [0.0, 0.0, 0.0]\n    dftu:\nDFTU\n  l: Int64 -1\n  U: Float64 0.0\n  J0: Float64 0.0\n  α: Float64 0.0\n  β: Float64 0.0\n  J: Array{Float64}((1,)) [0.0]\n\n, \nAtom\n    name: Ni\n    position_cryst: (0.0, 0.0, 0.0)\n    element: symbol: Ni\nZ: 28\nname: Nickel\natomic_weight: 58.6934\ncolor: (0.49744411383230336, 0.0019073777370870527, 0.0)\n\n    projections: Projection[Orbital: d\nstart index: 1\nlast index: 5\n]\n    magnetization: [0.0, 0.0, 0.0]\n    dftu:\nDFTU\n  l: Int64 -1\n  U: Float64 0.0\n  J0: Float64 0.0\n  α: Float64 0.0\n  β: Float64 0.0\n  J: Array{Float64}((1,)) [0.0]\n\n, \nAtom\n    name: O\n    position_cryst: (0.25, 0.25, 0.25)\n    element: symbol: O\nZ: 8\nname: Oxygen\natomic_weight: 15.9994\ncolor: (0.49744411383230336, 0.0019073777370870527, 0.49744411383230336)\n\n    projections: Projection[Orbital: p\nstart index: 11\nlast index: 13\n]\n    magnetization: [0.0, 0.0, 0.0]\n    dftu:\nDFTU\n  l: Int64 -1\n  U: Float64 0.0\n  J0: Float64 0.0\n  α: Float64 0.0\n  β: Float64 0.0\n  J: Array{Float64}((1,)) [0.0]\n\n, \nAtom\n    name: O\n    position_cryst: (0.75, 0.75, 0.75)\n    element: symbol: O\nZ: 8\nname: Oxygen\natomic_weight: 15.9994\ncolor: (0.49744411383230336, 0.0019073777370870527, 0.49744411383230336)\n\n    projections: Projection[Orbital: p\nstart index: 14\nlast index: 16\n]\n    magnetization: [0.0, 0.0, 0.0]\n    dftu:\nDFTU\n  l: Int64 -1\n  U: Float64 0.0\n  J0: Float64 0.0\n  α: Float64 0.0\n  β: Float64 0.0\n  J: Array{Float64}((1,)) [0.0]\n\n]\n"
     },
     "metadata": {},
     "execution_count": 3
    }
   ],
   "cell_type": "code",
   "source": [
    "structure = read_w90_input(joinpath(assets_dir, \"wanup.win\")).structure"
   ],
   "metadata": {},
   "execution_count": 3
  },
  {
   "cell_type": "markdown",
   "source": [
    "First we create some high symmetry kpoints\n",
    "then we explicitely interpolate between the high symmetry kpoints to form\n",
    "`bands_kpoints`."
   ],
   "metadata": {}
  },
  {
   "outputs": [],
   "cell_type": "code",
   "source": [
    "kpoints = [Vec3(0.0, 0.0, 0.5),\n",
    "           Vec3(0.0, 0.5, 0.5),\n",
    "           Vec3(0.5, 0.5, 0.5),\n",
    "           Vec3(0.5, 0.5, 0.0),\n",
    "           Vec3(0.5, 0.0, 0.0),\n",
    "           Vec3(0.0, 0.0, 0.0)]\n",
    "band_kpoints = eltype(kpoints)[]\n",
    "for i = 1:length(kpoints)-1\n",
    "    for α in range(0, 1, 20)\n",
    "        push!(band_kpoints, Vec3((1-α) .* kpoints[i] .+ α .* kpoints[i+1]))\n",
    "    end\n",
    "end"
   ],
   "metadata": {},
   "execution_count": 4
  },
  {
   "cell_type": "markdown",
   "source": [
    "In order to calculate the magnetic exchanges we need to specify the fermi level (e.g. can be found in an nscf output file),\n",
    "and we need to specify the atoms we want to calculate the exchanges between.\n",
    "We set the number of k points used for the kpoint interpolation, and number of frequency points to calculate the\n",
    "contour integral (`n_ωh`, `n_ωv`)."
   ],
   "metadata": {}
  },
  {
   "outputs": [
    {
     "name": "stdout",
     "output_type": "stream",
     "text": [
      "\rCalculating H(k)...   2%|▌                               |  ETA: 0:01:58\rCalculating H(k)... 100%|████████████████████████████████| Time: 0:00:02\n",
      "\rCalculating contour G(ω)...  40%|█████████▋              |  ETA: 0:00:02\rCalculating contour G(ω)... 100%|████████████████████████| Time: 0:00:01\n"
     ]
    },
    {
     "output_type": "execute_result",
     "data": {
      "text/plain": "4-element Vector{DFWannier.Exchange2ndOrder{Float64}}:\n atom1:name: Ni1, pos: [0.5, 0.5, 0.5]\n atom2:name: Ni1, pos: [0.5, 0.5, 0.5]\n J: -8020.974400959045\n atom1:name: Ni1, pos: [0.5, 0.5, 0.5]\n atom2:name: Ni, pos: [0.0, 0.0, 0.0]\n J: -0.03274539633413874\n atom1:name: Ni, pos: [0.0, 0.0, 0.0]\n atom2:name: Ni1, pos: [0.5, 0.5, 0.5]\n J: -0.03244107675378643\n atom1:name: Ni, pos: [0.0, 0.0, 0.0]\n atom2:name: Ni, pos: [0.0, 0.0, 0.0]\n J: -8017.172503230155"
     },
     "metadata": {},
     "execution_count": 5
    }
   ],
   "cell_type": "code",
   "source": [
    "exch = calc_exchanges(hami, structure[element(:Ni)], 12.0; nk=(5,5,5), n_ωh = 300, n_ωv = 30)"
   ],
   "metadata": {},
   "execution_count": 5
  },
  {
   "cell_type": "markdown",
   "source": [
    "This leads to a list of exchanges where each holds the J matrix, whose trace is the actual exchange between the sites specified\n",
    "by `atom1` and `atom2`."
   ],
   "metadata": {}
  },
  {
   "cell_type": "markdown",
   "source": [
    "To calculate the exchange between the atoms in the central unit cell and those in a shifted one we can use R.\n",
    "In this specific case we are calculating the exchanges towards the unit cell shifted twice along the `b` cell vector."
   ],
   "metadata": {}
  },
  {
   "outputs": [
    {
     "name": "stdout",
     "output_type": "stream",
     "text": [
      "\rCalculating contour G(ω)...  71%|█████████████████▏      |  ETA: 0:00:00\rCalculating contour G(ω)... 100%|████████████████████████| Time: 0:00:01\n"
     ]
    },
    {
     "output_type": "execute_result",
     "data": {
      "text/plain": "4-element Vector{DFWannier.Exchange2ndOrder{Float64}}:\n atom1:name: Ni1, pos: [0.5, 0.5, 0.5]\n atom2:name: Ni1, pos: [0.5, 0.5, 0.5]\n J: -0.0011082790509930043\n atom1:name: Ni1, pos: [0.5, 0.5, 0.5]\n atom2:name: Ni, pos: [0.0, 0.0, 0.0]\n J: 0.003374844058546161\n atom1:name: Ni, pos: [0.0, 0.0, 0.0]\n atom2:name: Ni1, pos: [0.5, 0.5, 0.5]\n J: 27.20417579157729\n atom1:name: Ni, pos: [0.0, 0.0, 0.0]\n atom2:name: Ni, pos: [0.0, 0.0, 0.0]\n J: -0.001563985572899999"
     },
     "metadata": {},
     "execution_count": 6
    }
   ],
   "cell_type": "code",
   "source": [
    "exch = calc_exchanges(hami, structure[element(:Ni)], 12.0, R=(0,2,0); nk=(5,5,5), n_ωh = 300, n_ωv = 30)"
   ],
   "metadata": {},
   "execution_count": 6
  }
 ],
 "nbformat_minor": 3,
 "metadata": {
  "language_info": {
   "file_extension": ".jl",
   "mimetype": "application/julia",
   "name": "julia",
   "version": "1.7.3"
  },
  "kernelspec": {
   "name": "julia-1.7",
   "display_name": "Julia 1.7.3",
   "language": "julia"
  }
 },
 "nbformat": 4
}
